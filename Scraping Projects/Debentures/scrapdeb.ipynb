{
 "cells": [
  {
   "cell_type": "markdown",
   "metadata": {},
   "source": [
    "## Imports"
   ]
  },
  {
   "cell_type": "code",
   "execution_count": 121,
   "metadata": {},
   "outputs": [],
   "source": [
    "import os\n",
    "import pandas as pd\n",
    "import numpy as np\n",
    "import requests"
   ]
  },
  {
   "cell_type": "code",
   "execution_count": 149,
   "metadata": {},
   "outputs": [],
   "source": [
    "import winreg\n",
    "import shutil"
   ]
  },
  {
   "cell_type": "code",
   "execution_count": 182,
   "metadata": {},
   "outputs": [],
   "source": [
    "from datetime import date, timedelta"
   ]
  },
  {
   "cell_type": "code",
   "execution_count": 123,
   "metadata": {},
   "outputs": [],
   "source": [
    "from selenium import webdriver\n",
    "from bs4 import BeautifulSoup"
   ]
  },
  {
   "cell_type": "markdown",
   "metadata": {},
   "source": [
    "## Setup"
   ]
  },
  {
   "cell_type": "code",
   "execution_count": 124,
   "metadata": {},
   "outputs": [],
   "source": [
    "convert_dict = {\n",
    "    '01': 'jan',\n",
    "    '02': 'fev',\n",
    "    '03': 'mar',\n",
    "    '04': 'abr',\n",
    "    '05': 'mai',\n",
    "    '06': 'jun',\n",
    "    '07': 'jul',\n",
    "    '08': 'ago',\n",
    "    '09': 'set',\n",
    "    '10': 'out',\n",
    "    '11': 'nov',\n",
    "    '12': 'dez'\n",
    "}\n",
    "\n",
    "def converte_data(ds):\n",
    "    #given a data string, converts the string to the file format\n",
    "    month = convert_dict[ds[2:4]]\n",
    "    return 'd'+ds[-2:] + month + ds[:2] + '.xls'"
   ]
  },
  {
   "cell_type": "code",
   "execution_count": 135,
   "metadata": {},
   "outputs": [],
   "source": [
    "url = 'https://www.anbima.com.br/informacoes/merc-sec-debentures/default.asp'\n",
    "driver = webdriver.Chrome()\n",
    "driver.get(url)"
   ]
  },
  {
   "cell_type": "code",
   "execution_count": 136,
   "metadata": {},
   "outputs": [],
   "source": [
    "datainput = driver.find_element_by_xpath('//*[@id=\"cinza50\"]/form/div/fieldset/table/tbody/tr/td/input[2]')\n",
    "datainput.clear()\n",
    "data = '17122019'\n",
    "datainput.send_keys(data)\n"
   ]
  },
  {
   "cell_type": "code",
   "execution_count": 137,
   "metadata": {},
   "outputs": [],
   "source": [
    "consultbut = driver.find_element_by_xpath('//*[@id=\"cinza50\"]/form/div/table/tbody/tr/td/img')\n",
    "consultbut.click()"
   ]
  },
  {
   "cell_type": "code",
   "execution_count": 138,
   "metadata": {},
   "outputs": [],
   "source": [
    "downbut = driver.find_element_by_xpath('/html/body/table/tbody/tr/td/div/table[2]/tbody/tr/td/table/tbody/tr/td/a[1]')\n",
    "downbut.click()"
   ]
  },
  {
   "cell_type": "code",
   "execution_count": 130,
   "metadata": {},
   "outputs": [],
   "source": [
    "driver.execute_script('window.history.go(-1)')"
   ]
  },
  {
   "cell_type": "markdown",
   "metadata": {},
   "source": [
    "## Pegando as datas"
   ]
  },
  {
   "cell_type": "code",
   "execution_count": 162,
   "metadata": {},
   "outputs": [],
   "source": [
    "today = date.today()"
   ]
  },
  {
   "cell_type": "code",
   "execution_count": 163,
   "metadata": {},
   "outputs": [],
   "source": [
    "days = [today - timedelta(days = j+1) for j in range(5)] "
   ]
  },
  {
   "cell_type": "code",
   "execution_count": 164,
   "metadata": {},
   "outputs": [],
   "source": [
    "days = [d.strftime('%d/%m/%Y').replace('/','') for d in days]"
   ]
  },
  {
   "cell_type": "code",
   "execution_count": 165,
   "metadata": {},
   "outputs": [
    {
     "data": {
      "text/plain": [
       "['19122019', '18122019', '17122019', '16122019', '15122019']"
      ]
     },
     "execution_count": 165,
     "metadata": {},
     "output_type": "execute_result"
    }
   ],
   "source": [
    "days"
   ]
  },
  {
   "cell_type": "markdown",
   "metadata": {},
   "source": [
    "## Lidando com os Downloads"
   ]
  },
  {
   "cell_type": "code",
   "execution_count": 118,
   "metadata": {},
   "outputs": [],
   "source": [
    "down_days = list(map(converte_data, days))"
   ]
  },
  {
   "cell_type": "code",
   "execution_count": 119,
   "metadata": {},
   "outputs": [
    {
     "data": {
      "text/plain": [
       "['d19dez20.xls',\n",
       " 'd19dez19.xls',\n",
       " 'd19dez18.xls',\n",
       " 'd19dez17.xls',\n",
       " 'd19dez16.xls']"
      ]
     },
     "execution_count": 119,
     "metadata": {},
     "output_type": "execute_result"
    }
   ],
   "source": [
    "down_days"
   ]
  },
  {
   "cell_type": "markdown",
   "metadata": {},
   "source": [
    "## Tentando acessar servs"
   ]
  },
  {
   "cell_type": "code",
   "execution_count": 152,
   "metadata": {},
   "outputs": [],
   "source": [
    "file = 'd19dez17.xls'"
   ]
  },
  {
   "cell_type": "code",
   "execution_count": 153,
   "metadata": {},
   "outputs": [],
   "source": [
    "def get_download_path():\n",
    "    sub_key = r'SOFTWARE\\Microsoft\\Windows\\CurrentVersion\\Explorer\\Shell Folders'\n",
    "    downloads_guid = '{374DE290-123F-4565-9164-39C4925E467B}'\n",
    "    with winreg.OpenKey(winreg.HKEY_CURRENT_USER, sub_key) as key:\n",
    "            location = winreg.QueryValueEx(key, downloads_guid)[0]\n",
    "    return location"
   ]
  },
  {
   "cell_type": "code",
   "execution_count": 154,
   "metadata": {},
   "outputs": [],
   "source": [
    "down = get_download_path()"
   ]
  },
  {
   "cell_type": "code",
   "execution_count": 155,
   "metadata": {},
   "outputs": [],
   "source": [
    "file_path = os.path.join(down, file)"
   ]
  },
  {
   "cell_type": "code",
   "execution_count": 158,
   "metadata": {},
   "outputs": [],
   "source": [
    "server_path = 'Z:\\Structuring\\Credit Analysis\\Debentures\\Transfer'"
   ]
  },
  {
   "cell_type": "code",
   "execution_count": 159,
   "metadata": {},
   "outputs": [],
   "source": [
    "server_dest_path = os.path.join(server_path, file)"
   ]
  },
  {
   "cell_type": "code",
   "execution_count": 161,
   "metadata": {},
   "outputs": [],
   "source": [
    "filemove = shutil.copyfile(file_path, server_dest_path)"
   ]
  },
  {
   "cell_type": "markdown",
   "metadata": {},
   "source": [
    "#### lidando com os dias uteis"
   ]
  },
  {
   "cell_type": "code",
   "execution_count": 192,
   "metadata": {},
   "outputs": [],
   "source": [
    "holid_file = 'holidays.xlsx'\n",
    "holid = pd.read_excel(os.path.join(os.getcwd(),holid_file))"
   ]
  },
  {
   "cell_type": "code",
   "execution_count": 193,
   "metadata": {},
   "outputs": [],
   "source": [
    "holid = list(holid['Data'])"
   ]
  },
  {
   "cell_type": "code",
   "execution_count": 197,
   "metadata": {},
   "outputs": [],
   "source": [
    "holid = [date(h.year,h.month,h.day).strftime('%d/%m/%Y').replace('/','') for h in holid]"
   ]
  },
  {
   "cell_type": "code",
   "execution_count": 206,
   "metadata": {},
   "outputs": [],
   "source": [
    "dys = []\n",
    "j = 0\n",
    "while len(dys)<5:\n",
    "    dy = today - timedelta(days = j + 1)\n",
    "    if dy not in holid:\n",
    "        dys.append(dy)\n",
    "    j = j + 1"
   ]
  },
  {
   "cell_type": "code",
   "execution_count": 207,
   "metadata": {},
   "outputs": [
    {
     "data": {
      "text/plain": [
       "[datetime.date(2019, 12, 19),\n",
       " datetime.date(2019, 12, 18),\n",
       " datetime.date(2019, 12, 17),\n",
       " datetime.date(2019, 12, 16),\n",
       " datetime.date(2019, 12, 15)]"
      ]
     },
     "execution_count": 207,
     "metadata": {},
     "output_type": "execute_result"
    }
   ],
   "source": [
    "dys"
   ]
  },
  {
   "cell_type": "code",
   "execution_count": null,
   "metadata": {},
   "outputs": [],
   "source": []
  }
 ],
 "metadata": {
  "kernelspec": {
   "display_name": "Python 3",
   "language": "python",
   "name": "python3"
  },
  "language_info": {
   "codemirror_mode": {
    "name": "ipython",
    "version": 3
   },
   "file_extension": ".py",
   "mimetype": "text/x-python",
   "name": "python",
   "nbconvert_exporter": "python",
   "pygments_lexer": "ipython3",
   "version": "3.7.3"
  }
 },
 "nbformat": 4,
 "nbformat_minor": 2
}
